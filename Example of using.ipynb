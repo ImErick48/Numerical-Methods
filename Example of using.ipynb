{
 "cells": [
  {
   "cell_type": "markdown",
   "id": "cb44bb27",
   "metadata": {},
   "source": [
    "# Examples\n",
    "\n",
    "### Solving second ODE using Euler\n",
    "\n",
    "Solve the second order differential equation using Euler:\n",
    "\n",
    "$$y'' + xy' + y=0 \\qquad y(0) = 1, \\quad y'(0) = 2 \\quad h = 0.1$$\n",
    "\n",
    "% With the substitution $u = y, \\quad v = y'$\n",
    "\n",
    "$$u' = v$$\n",
    "$$v' = -tv - u$$\n",
    "\n",
    "#### Solution with code"
   ]
  },
  {
   "cell_type": "code",
   "execution_count": 3,
   "id": "6fa7ea53",
   "metadata": {},
   "outputs": [
    {
     "name": "stdout",
     "output_type": "stream",
     "text": [
      "Solution with Euler\n",
      "[[0.    1.    2.   ]\n",
      " [0.1   1.2   1.9  ]\n",
      " [0.2   1.39  1.761]]\n"
     ]
    }
   ],
   "source": [
    "import solver_system_ODE as sys_sol\n",
    "\n",
    "def f(t, x, y):\n",
    "    return y\n",
    "\n",
    "def g(t, x, y):\n",
    "    return -t*y - x\n",
    "\n",
    "print(\"Solution with Euler\")\n",
    "print(sys_sol.euler_int(f, g, 0, 0.2, 1, 2, 0.1))"
   ]
  },
  {
   "cell_type": "markdown",
   "id": "3448deed",
   "metadata": {},
   "source": [
    "### Solving second ODE using RK4\n",
    "\n",
    "Solve the second order differential equation using RK4\n",
    "\n",
    "$$x^2y'' - 2xy' + 2y=0 \\qquad y(1) = 2, \\quad y'(1) = 2 \\quad h = 0.1$$\n",
    "\n",
    "With the substitution $u = y, \\quad v = y'$ and using t as independent variable\n",
    "\n",
    "$$u' = v$$\n",
    "$$v' = \\frac{2*t*v - 2*u}{t^2}$$\n",
    "\n",
    "#### Solution with code"
   ]
  },
  {
   "cell_type": "code",
   "execution_count": 2,
   "id": "81ce0f93",
   "metadata": {},
   "outputs": [
    {
     "name": "stdout",
     "output_type": "stream",
     "text": [
      "SODE con RK4\n",
      "[[1.  2.  2. ]\n",
      " [1.1 2.2 2. ]\n",
      " [1.2 2.4 2. ]]\n"
     ]
    }
   ],
   "source": [
    "def f(t, x, y):\n",
    "    return y\n",
    "\n",
    "def g(t, x, y):\n",
    "    return (2*t*y - 2*x)/t**2\n",
    "\n",
    "print(\"SODE con RK4\")\n",
    "print(sys_sol.runge_kutta_int(f, g, 1, 1.2, 2, 2, 0.1))"
   ]
  },
  {
   "cell_type": "markdown",
   "id": "48deabe9",
   "metadata": {},
   "source": [
    "### Solving system of ODEs using RK4\n",
    "\n",
    "Solve the system of order differential equation using RK4\n",
    "\n",
    "$$x' = 2x + 4y$$\n",
    "$$y' = -x + 6y$$\n",
    "$$x(0) = -1, \\quad y(0) = 6$$\n",
    "\n",
    "Use RK4 to approximate x(0.6) and y(0.6) using h = 0.1\n",
    "\n",
    "#### Solution with code"
   ]
  },
  {
   "cell_type": "code",
   "execution_count": 4,
   "id": "56e25767",
   "metadata": {},
   "outputs": [
    {
     "name": "stdout",
     "output_type": "stream",
     "text": [
      "SODE con RK4\n",
      "[[ 0.00000000e+00 -1.00000000e+00  6.00000000e+00]\n",
      " [ 1.00000000e-01  2.38400000e+00  1.08882667e+01]\n",
      " [ 2.00000000e-01  9.33785287e+00  1.91331706e+01]\n",
      " [ 3.00000000e-01  2.25541331e+01  3.28538617e+01]\n",
      " [ 4.00000000e-01  4.65102758e+01  5.54419626e+01]\n",
      " [ 5.00000000e-01  8.85728595e+01  9.23005889e+01]\n",
      " [ 6.00000000e-01  1.60756330e+02  1.52002487e+02]]\n"
     ]
    }
   ],
   "source": [
    "def f(t, x, y):\n",
    "    return 2*x + 4*y\n",
    "\n",
    "def g(t, x, y):\n",
    "    return -x + 6*y\n",
    "\n",
    "print(\"SODE con RK4\")\n",
    "print(sys_sol.runge_kutta_int(f, g, 0, 0.6, -1, 6, 0.1))"
   ]
  },
  {
   "cell_type": "code",
   "execution_count": null,
   "id": "fdae3b6c",
   "metadata": {},
   "outputs": [],
   "source": []
  }
 ],
 "metadata": {
  "kernelspec": {
   "display_name": "Python 3",
   "language": "python",
   "name": "python3"
  },
  "language_info": {
   "codemirror_mode": {
    "name": "ipython",
    "version": 3
   },
   "file_extension": ".py",
   "mimetype": "text/x-python",
   "name": "python",
   "nbconvert_exporter": "python",
   "pygments_lexer": "ipython3",
   "version": "3.8.8"
  }
 },
 "nbformat": 4,
 "nbformat_minor": 5
}
